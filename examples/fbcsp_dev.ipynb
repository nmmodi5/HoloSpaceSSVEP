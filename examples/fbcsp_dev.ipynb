{
 "cells": [
  {
   "cell_type": "code",
   "execution_count": 1,
   "metadata": {},
   "outputs": [
    {
     "name": "stderr",
     "output_type": "stream",
     "text": [
      "/Users/milsagw1/repos/git/hololight/env/lib/python3.8/site-packages/tqdm/auto.py:22: TqdmWarning: IProgress not found. Please update jupyter and ipywidgets. See https://ipywidgets.readthedocs.io/en/stable/user_install.html\n",
      "  from .autonotebook import tqdm as notebook_tqdm\n"
     ]
    }
   ],
   "source": [
    "import json\n",
    "from pathlib import Path\n",
    "\n",
    "import numpy as np\n",
    "import torch\n",
    "\n",
    "from torch.utils.data import (\n",
    "    DataLoader, \n",
    "    WeightedRandomSampler\n",
    ")\n",
    "\n",
    "from tqdm.autonotebook import tqdm\n",
    "from ezmsg.util.messagelogger import MessageDecoder\n",
    "\n",
    "from hololight.shallowfbcspnet import ShallowFBCSPNet, FBCSPDataset, dummy_output\n",
    "\n",
    "from typing import List\n"
   ]
  },
  {
   "cell_type": "code",
   "execution_count": 2,
   "metadata": {},
   "outputs": [],
   "source": [
    "\n",
    "samples = []\n",
    "data_fname = Path( '..' ) / 'recordings' / 'traindata.txt'\n",
    "with open( data_fname, 'r' ) as data_file:\n",
    "    samples = [ json.loads( line, cls = MessageDecoder ) for line in data_file ]\n",
    "\n",
    "eeg_trials = np.array( [ s[ 'sample' ][ 'data' ] for s in samples ] ).swapaxes( 1, 2 )\n",
    "eeg_labels = np.array( [ s[ 'trigger' ][ 'value' ] for s in samples ] )\n",
    "\n",
    "train_dset = FBCSPDataset( eeg_trials[:40, ...], eeg_labels[:40, ...] )\n",
    "test_dset = FBCSPDataset( eeg_trials[40:, ...], eeg_labels[40:, ...] )"
   ]
  },
  {
   "cell_type": "code",
   "execution_count": 3,
   "metadata": {},
   "outputs": [
    {
     "name": "stdout",
     "output_type": "stream",
     "text": [
      "Sequential(\n",
      "  (ensuredims): Ensure4d()\n",
      "  (dimshuffle): Expression(expression=_transpose_time_to_spat)\n",
      "  (conv_time): Conv2d(1, 40, kernel_size=(25, 1), stride=(1, 1))\n",
      "  (conv_spat): Conv2d(40, 40, kernel_size=(1, 8), stride=(1, 1), bias=False)\n",
      "  (bnorm): BatchNorm2d(40, eps=1e-05, momentum=0.1, affine=True, track_running_stats=True)\n",
      "  (conv_nonlin): Expression(expression=square)\n",
      "  (pool): AvgPool2d(kernel_size=(75, 1), stride=(1, 1), padding=0)\n",
      "  (pool_nonlin): Expression(expression=safe_log)\n",
      "  (drop): Dropout(p=0.5, inplace=False)\n",
      "  (conv_classifier): Conv2d(40, 2, kernel_size=(30, 1), stride=(1, 1), dilation=(15, 1))\n",
      "  (softmax): LogSoftmax(dim=1)\n",
      "  (squeeze): Expression(expression=_squeeze_final_output)\n",
      ")\n",
      "467\n",
      "torch.Size([1, 2, 467])\n"
     ]
    }
   ],
   "source": [
    "net = ShallowFBCSPNet(\n",
    "    in_chans = eeg_trials.shape[1],\n",
    "    n_classes = len( train_dset.class_map ),\n",
    "    input_time_length = eeg_trials.shape[2],\n",
    "    cropped_training = True,\n",
    "    n_filters_time = 40,\n",
    "    filter_time_length = 25,\n",
    "    n_filters_spat = 40,\n",
    "    pool_time_length = 75,\n",
    "    pool_time_stride = 15,\n",
    "    conv_nonlin = 'square',\n",
    "    pool_mode = 'mean',\n",
    "    pool_nonlin = 'safe_log',\n",
    "    split_first_layer = True,\n",
    "    batch_norm = True,\n",
    "    batch_norm_alpha = 0.1,\n",
    "    drop_prob = 0.5,\n",
    "    device = 'cpu',\n",
    "    single_precision = False\n",
    ")\n",
    "\n",
    "print( net.model )\n",
    "print( net.optimal_temporal_stride )\n",
    "print( dummy_output( net.model, net.in_chans, net.input_time_length ).shape )"
   ]
  },
  {
   "cell_type": "code",
   "execution_count": 4,
   "metadata": {},
   "outputs": [
    {
     "name": "stdout",
     "output_type": "stream",
     "text": [
      "Model has 16322 trainable parameters\n"
     ]
    },
    {
     "name": "stderr",
     "output_type": "stream",
     "text": [
      "100%|██████████| 30/30 [00:25<00:00,  1.19it/s]\n"
     ]
    }
   ],
   "source": [
    "learning_rate = 0.0001\n",
    "max_epochs = 30\n",
    "batch_size = 32\n",
    "weight_decay = 0.0\n",
    "\n",
    "model_parameters = filter( lambda p: p.requires_grad, net.model.parameters() )\n",
    "params = sum( [ np.prod( p.size() ) for p in model_parameters ] )\n",
    "print( f'Model has {params} trainable parameters' )\n",
    "\n",
    "loss_fn = torch.nn.NLLLoss()\n",
    "optimizer = torch.optim.AdamW( \n",
    "    net.model.parameters(), \n",
    "    lr = learning_rate, \n",
    "    weight_decay = weight_decay \n",
    ")\n",
    "\n",
    "scheduler = torch.optim.lr_scheduler.CosineAnnealingLR( optimizer, T_max = max_epochs / 1 )\n",
    "\n",
    "best_loss = None\n",
    "best_loss_epoch = None\n",
    "\n",
    "train_loss, test_loss, test_accuracy = [], [], []\n",
    "lr = []\n",
    "\n",
    "epoch_itr = tqdm( range( max_epochs ) )\n",
    "\n",
    "# Calculate weights for class balancing\n",
    "classes, counts = torch.unique( train_dset.y, return_counts = True )\n",
    "weights = { cl.item(): 1.0 / co.item() for cl, co in zip( classes, counts ) }\n",
    "weights = [ weights[ lab.item() ] for lab in train_dset.y ]\n",
    "\n",
    "for epoch in epoch_itr:\n",
    "\n",
    "    net.model.train()\n",
    "    train_loss_batches = []\n",
    "    for train_feats, train_labels in DataLoader(\n",
    "        train_dset,\n",
    "        batch_size = batch_size, \n",
    "        # drop_last = True,\n",
    "        sampler = WeightedRandomSampler( weights, len( train_dset ), replacement = False ),\n",
    "        pin_memory = True,\n",
    "    ):\n",
    "        pred = net.model( train_feats.to( net._device ) )\n",
    "        if net.cropped_training:\n",
    "            pred = pred.mean( axis = 2 )\n",
    "        loss = loss_fn( pred, train_labels.to( net._device ) )\n",
    "        train_loss_batches.append( loss.cpu().item() )\n",
    "\n",
    "        optimizer.zero_grad()\n",
    "        loss.backward()\n",
    "        optimizer.step()\n",
    "\n",
    "    scheduler.step()\n",
    "\n",
    "    lr.append( scheduler.get_last_lr()[0] )\n",
    "    train_loss.append( np.mean( train_loss_batches ) )\n",
    "\n",
    "    net.model.eval()\n",
    "    with torch.no_grad():\n",
    "        accuracy = 0\n",
    "        test_loss_batches = []\n",
    "        for test_feats, test_labels in DataLoader(\n",
    "            test_dset, \n",
    "            batch_size = batch_size, \n",
    "            pin_memory = True\n",
    "        ):\n",
    "            output = net.model( test_feats.to( net._device ) )\n",
    "            if net.cropped_training:\n",
    "                output = output.mean( axis = 2 )\n",
    "            loss = loss_fn( output, test_labels.to( net._device ) )\n",
    "            test_loss_batches.append( loss.cpu().item() )\n",
    "            accuracy += ( output.argmax( axis = 1 ).cpu() == test_labels ).sum().item()\n",
    "\n",
    "        test_loss.append( np.mean( test_loss_batches ) )\n",
    "        test_accuracy.append( accuracy / len( test_dset ) )\n",
    "        \n",
    "acc_str = f'Test Accuracy: {test_accuracy[-1] * 100.0:0.2f}%'"
   ]
  },
  {
   "cell_type": "code",
   "execution_count": 5,
   "metadata": {},
   "outputs": [
    {
     "data": {
      "text/plain": [
       "Text(0.5, 1.0, 'Test Accuracy: 100.00%')"
      ]
     },
     "execution_count": 5,
     "metadata": {},
     "output_type": "execute_result"
    },
    {
     "data": {
      "image/png": "[encoded data removed]",
      "text/plain": [
       "<Figure size 600x400 with 1 Axes>"
      ]
     },
     "metadata": {
      "needs_background": "light"
     },
     "output_type": "display_data"
    }
   ],
   "source": [
    "import matplotlib.pyplot as plt\n",
    "\n",
    "fig, ax = plt.subplots( dpi = 100, figsize = ( 6.0, 4.0 ) )\n",
    "ax.plot( train_loss, label = 'Train' )\n",
    "ax.plot( test_loss, label = 'Test' )\n",
    "ax.plot( test_accuracy, label = 'Test Accuracy' )\n",
    "ax.plot( lr, label = 'Learning Rate' )\n",
    "ax.legend()\n",
    "ax.set_yscale( 'log' )\n",
    "ax.set_xlabel( 'Epoch' )\n",
    "ax.axhline( 1, color = 'k' )\n",
    "ax.set_title( acc_str )\n",
    "\n",
    "# out_train = input_dir / f'{tag}_train.png'\n",
    "# fig.savefig( out_train )"
   ]
  },
  {
   "cell_type": "code",
   "execution_count": 6,
   "metadata": {},
   "outputs": [
    {
     "ename": "AttributeError",
     "evalue": "'FBCSPDataset' object has no attribute 'label_dict'",
     "output_type": "error",
     "traceback": [
      "\u001b[0;31m---------------------------------------------------------------------------\u001b[0m",
      "\u001b[0;31mAttributeError\u001b[0m                            Traceback (most recent call last)",
      "\u001b[1;32m/Users/milsagw1/repos/git/hololight/examples/fbcsp_dev.ipynb Cell 6'\u001b[0m in \u001b[0;36m<cell line: 13>\u001b[0;34m()\u001b[0m\n\u001b[1;32m     <a href='vscode-notebook-cell:/Users/milsagw1/repos/git/hololight/examples/fbcsp_dev.ipynb#ch0000007?line=9'>10</a>\u001b[0m test_y \u001b[39m=\u001b[39m torch\u001b[39m.\u001b[39mcat( test_y, axis \u001b[39m=\u001b[39m \u001b[39m0\u001b[39m )\n\u001b[1;32m     <a href='vscode-notebook-cell:/Users/milsagw1/repos/git/hololight/examples/fbcsp_dev.ipynb#ch0000007?line=10'>11</a>\u001b[0m decode \u001b[39m=\u001b[39m torch\u001b[39m.\u001b[39mcat( decode, axis \u001b[39m=\u001b[39m \u001b[39m0\u001b[39m )\n\u001b[0;32m---> <a href='vscode-notebook-cell:/Users/milsagw1/repos/git/hololight/examples/fbcsp_dev.ipynb#ch0000007?line=12'>13</a>\u001b[0m classes \u001b[39m=\u001b[39m \u001b[39mlist\u001b[39m( \u001b[39msorted\u001b[39m( test_dset\u001b[39m.\u001b[39;49mlabel_dict\u001b[39m.\u001b[39mvalues() ) ) \n\u001b[1;32m     <a href='vscode-notebook-cell:/Users/milsagw1/repos/git/hololight/examples/fbcsp_dev.ipynb#ch0000007?line=13'>14</a>\u001b[0m rev_dict \u001b[39m=\u001b[39m { v: k \u001b[39mfor\u001b[39;00m k, v \u001b[39min\u001b[39;00m test_dset\u001b[39m.\u001b[39mlabel_dict\u001b[39m.\u001b[39mitems() }\n\u001b[1;32m     <a href='vscode-notebook-cell:/Users/milsagw1/repos/git/hololight/examples/fbcsp_dev.ipynb#ch0000007?line=14'>15</a>\u001b[0m class_labels \u001b[39m=\u001b[39m [ rev_dict[ c ] \u001b[39mfor\u001b[39;00m c \u001b[39min\u001b[39;00m classes ]\n",
      "\u001b[0;31mAttributeError\u001b[0m: 'FBCSPDataset' object has no attribute 'label_dict'"
     ]
    }
   ],
   "source": [
    "net.model.eval()\n",
    "\n",
    "output = [ \n",
    "    ( net.model( test_feats.to( net._device ) ).cpu().argmax( axis = 1 ), test_labels )\n",
    "    for test_feats, test_labels \n",
    "    in DataLoader( test_dset, batch_size = batch_size ) \n",
    "]\n",
    "\n",
    "decode, test_y = zip( *output )\n",
    "test_y = torch.cat( test_y, axis = 0 )\n",
    "decode = torch.cat( decode, axis = 0 )\n",
    "\n",
    "classes = list( sorted( test_dset.label_map.values() ) ) \n",
    "rev_dict = { v: k for k, v in test_dset.label_map.items() }\n",
    "class_labels = [ rev_dict[ c ] for c in classes ]\n",
    "confusion = np.zeros( ( len( classes ), len( classes ) ) )\n",
    "for true_idx, true_class in enumerate( classes ):\n",
    "    class_trials = np.where( test_y == true_class )[0]\n",
    "    for pred_idx, pred_class in enumerate( classes ):\n",
    "        num_preds = ( decode[ class_trials ] == pred_class ).sum().item()\n",
    "        confusion[ true_idx, pred_idx ] = num_preds / len( class_trials )\n",
    "\n",
    "\n",
    "fig, ax = plt.subplots( dpi = 100 )\n",
    "corners = np.arange( len( classes ) + 1 ) - 0.5\n",
    "im = ax.pcolormesh( \n",
    "    corners, corners, confusion, alpha = 0.5,\n",
    "    cmap = plt.cm.Blues, vmin = 0.0, vmax = 1.0\n",
    ")\n",
    "\n",
    "for row_idx, row in enumerate( confusion ):\n",
    "    for col_idx, freq in enumerate( row ):\n",
    "        ax.annotate( \n",
    "            f'{freq:0.2f}', ( col_idx, row_idx ), \n",
    "            ha = 'center', va = 'center' \n",
    "        )\n",
    "\n",
    "ax.set_aspect( 'equal' )\n",
    "ax.set_xticks( classes )\n",
    "ax.set_yticks( classes )\n",
    "ax.set_xticklabels( class_labels )\n",
    "ax.set_yticklabels( class_labels )\n",
    "ax.set_ylabel( 'True Class' )\n",
    "ax.set_xlabel( 'Predicted Class' )\n",
    "ax.invert_yaxis( )\n",
    "fig.colorbar( im )\n",
    "ax.set_title( acc_str )\n"
   ]
  },
  {
   "cell_type": "code",
   "execution_count": null,
   "metadata": {},
   "outputs": [],
   "source": [
    "checkpoint = {\n",
    "    'model_definition': model_definition,\n",
    "    'fs': trials.fs, \n",
    "    'model_state_dict': model.state_dict(),\n",
    "    'optimizer_state_dict': optimizer.state_dict(),\n",
    "}\n",
    "\n",
    "out_checkpoint = f'FBCSP.checkpoint'\n",
    "torch.save( checkpoint, out_checkpoint )"
   ]
  }
 ],
 "metadata": {
  "kernelspec": {
   "display_name": "Python 3.8.9 ('env': venv)",
   "language": "python",
   "name": "python3"
  },
  "language_info": {
   "codemirror_mode": {
    "name": "ipython",
    "version": 3
   },
   "file_extension": ".py",
   "mimetype": "text/x-python",
   "name": "python",
   "nbconvert_exporter": "python",
   "pygments_lexer": "ipython3",
   "version": "3.8.9"
  },
  "orig_nbformat": 4,
  "vscode": {
   "interpreter": {
    "hash": "ed258a9152e085ee7311268e121aa17c6767ee64cbeeaf73a64058897dead45f"
   }
  }
 },
 "nbformat": 4,
 "nbformat_minor": 2
}
