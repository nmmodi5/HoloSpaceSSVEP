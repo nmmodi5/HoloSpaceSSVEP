{
 "cells": [
  {
   "cell_type": "code",
   "execution_count": 1,
   "metadata": {},
   "outputs": [
    {
     "name": "stderr",
     "output_type": "stream",
     "text": [
      "/Users/milsagw1/repos/git/hololight/env/lib/python3.8/site-packages/tqdm/auto.py:22: TqdmWarning: IProgress not found. Please update jupyter and ipywidgets. See https://ipywidgets.readthedocs.io/en/stable/user_install.html\n",
      "  from .autonotebook import tqdm as notebook_tqdm\n"
     ]
    }
   ],
   "source": [
    "import json\n",
    "from pathlib import Path\n",
    "\n",
    "import numpy as np\n",
    "\n",
    "from ezmsg.util.messagelogger import MessageDecoder\n",
    "\n",
    "from hololight.shallowfbcspnet import ShallowFBCSPNet, ShallowFBCSPParameters, balance_dataset\n",
    "\n",
    "from typing import List\n"
   ]
  },
  {
   "cell_type": "code",
   "execution_count": 4,
   "metadata": {},
   "outputs": [],
   "source": [
    "\n",
    "samples = []\n",
    "data_fname = Path( '..' ) / 'recordings' / 'traindata.txt'\n",
    "with open( data_fname, 'r' ) as data_file:\n",
    "    samples = [ json.loads( line, cls = MessageDecoder ) for line in data_file ]\n",
    "\n",
    "eeg_trials = np.array( [ s[ 'sample' ][ 'data' ] for s in samples ] ).swapaxes( 1, 2 )\n",
    "eeg_labels = np.array( [ int( s[ 'trigger' ][ 'value' ] ) for s in samples ] )\n",
    "\n",
    "# Test single precision mode\n",
    "eeg_trials = eeg_trials.astype( np.float32 )"
   ]
  },
  {
   "cell_type": "code",
   "execution_count": 5,
   "metadata": {},
   "outputs": [],
   "source": [
    "from io import TextIOWrapper\n",
    "\n",
    "import torch as th\n",
    "from torch.utils.data import Dataset\n",
    "\n",
    "from typing import Tuple, Any\n",
    "\n",
    "class FBCSPDataset( Dataset ):\n",
    "    \"\"\"\n",
    "    Lazy loaded dataset from disk\n",
    "    \"\"\"\n",
    "    file: TextIOWrapper\n",
    "\n",
    "    seekpoints: List[ int ]\n",
    "    labels: List[ int ]\n",
    "\n",
    "    dtype: np.dtype\n",
    "\n",
    "    def __init__( self, filename: Path, single_precision: bool = True ) -> None:\n",
    "        super().__init__()\n",
    "\n",
    "        self.dtype = np.float32 if single_precision else np.float64\n",
    "        self.seekpoints = list()\n",
    "        self.file = open( filename, 'r' )   \n",
    "        self.labels = []     \n",
    "        while self.file.readable():\n",
    "            seekpoint = self.file.tell()\n",
    "            line = self.file.readline()\n",
    "            if len( line ):\n",
    "                self.seekpoints.append( seekpoint )\n",
    "                obj = json.loads( line, cls = MessageDecoder )\n",
    "                self.labels.append( int( obj[ 'trigger' ][ 'value' ] ) )\n",
    "            else: break\n",
    "\n",
    "    def __len__( self ) -> int:\n",
    "        return len( self.labels )\n",
    "\n",
    "    def __getitem__( self, idx: int ) -> Tuple[ th.Tensor, th.Tensor ]:\n",
    "        self.file.seek( self.seekpoints[ idx ] )\n",
    "        obj = json.loads( self.file.readline(), cls = MessageDecoder )\n",
    "        data = np.transpose( obj[ 'sample' ][ 'data' ] ).astype( self.dtype )\n",
    "        return th.tensor( data ), th.tensor( self.labels[ idx ] )\n",
    "\n",
    "    def __del__( self ):\n",
    "        self.file.close()\n",
    "\n",
    "data_fname = Path( '..' ) / 'recordings' / 'traindata.txt'\n",
    "eeg_dset = FBCSPDataset( data_fname )"
   ]
  },
  {
   "cell_type": "code",
   "execution_count": 6,
   "metadata": {},
   "outputs": [
    {
     "name": "stdout",
     "output_type": "stream",
     "text": [
      "<hololight.shallowfbcspnet.ShallowFBCSPNet object at 0x1327df850>\n",
      "Model: Sequential(\n",
      "  (ensuredims): Ensure4d()\n",
      "  (dimshuffle): Expression(expression=_transpose_time_to_spat)\n",
      "  (conv_time): Conv2d(1, 40, kernel_size=(25, 1), stride=(1, 1))\n",
      "  (conv_spat): Conv2d(40, 40, kernel_size=(1, 8), stride=(1, 1), bias=False)\n",
      "  (bnorm): BatchNorm2d(40, eps=1e-05, momentum=0.1, affine=True, track_running_stats=True)\n",
      "  (conv_nonlin): Expression(expression=square)\n",
      "  (pool): AvgPool2d(kernel_size=(75, 1), stride=(1, 1), padding=0)\n",
      "  (pool_nonlin): Expression(expression=safe_log)\n",
      "  (drop): Dropout(p=0.5, inplace=False)\n",
      "  (conv_classifier): Conv2d(40, 2, kernel_size=(30, 1), stride=(1, 1), dilation=(15, 1))\n",
      "  (softmax): LogSoftmax(dim=1)\n",
      "  (squeeze): Expression(expression=_squeeze_final_output)\n",
      ")\n",
      "Model has 16322 trainable parameters on device: cpu (cropped training)\n",
      "When segmenting temporal windows -- use optimal temporal stride of 467 samples\n",
      "Model input: ( batch x 8 ch x 1000 time points, dtype=torch.float32 )\n",
      "Model output: ( batch x 2 classes x 467 crops, dtype=torch.float32 )\n"
     ]
    }
   ],
   "source": [
    "params = ShallowFBCSPParameters(\n",
    "    in_chans = eeg_trials.shape[1],\n",
    "    n_classes = len( np.unique( eeg_labels ) ),\n",
    "    input_time_length = eeg_trials.shape[2],\n",
    "    cropped_training = True,\n",
    "    n_filters_time = 40,\n",
    "    filter_time_length = 25,\n",
    "    n_filters_spat = 40,\n",
    "    pool_time_length = 75,\n",
    "    pool_time_stride = 15,\n",
    "    conv_nonlin = 'square',\n",
    "    pool_mode = 'mean',\n",
    "    pool_nonlin = 'safe_log',\n",
    "    split_first_layer = True,\n",
    "    batch_norm = True,\n",
    "    batch_norm_alpha = 0.1,\n",
    "    drop_prob = 0.5,\n",
    "    single_precision = True\n",
    ")\n",
    "\n",
    "net = ShallowFBCSPNet( params )\n",
    "\n",
    "print( net )"
   ]
  },
  {
   "cell_type": "code",
   "execution_count": 7,
   "metadata": {},
   "outputs": [
    {
     "name": "stderr",
     "output_type": "stream",
     "text": [
      "100%|██████████| 30/30 [00:15<00:00,  1.98it/s]\n"
     ]
    }
   ],
   "source": [
    "# train_dset, test_dset = balance_dataset( ( eeg_trials, eeg_labels ), ( 0.8, 0.2 ) )\n",
    "train_dset, test_dset = balance_dataset( eeg_dset, ( 0.8, 0.2 ) )\n",
    "train_info = net.train( train_dset, test_dset, progress = True )"
   ]
  },
  {
   "cell_type": "code",
   "execution_count": 8,
   "metadata": {},
   "outputs": [
    {
     "data": {
      "image/png": "[encoded data removed]",
      "text/plain": [
       "<Figure size 600x400 with 1 Axes>"
      ]
     },
     "metadata": {
      "needs_background": "light"
     },
     "output_type": "display_data"
    }
   ],
   "source": [
    "import matplotlib.pyplot as plt\n",
    "from hololight.shallowfbcspnet import plot_train_info_mpl\n",
    "\n",
    "fig, ax = plt.subplots( dpi = 100, figsize = ( 6.0, 4.0 ) )\n",
    "plot_train_info_mpl( train_info, ax )"
   ]
  },
  {
   "cell_type": "code",
   "execution_count": 9,
   "metadata": {},
   "outputs": [
    {
     "data": {
      "image/png": "[encoded data removed]",
      "text/plain": [
       "<Figure size 600x400 with 2 Axes>"
      ]
     },
     "metadata": {
      "needs_background": "light"
     },
     "output_type": "display_data"
    }
   ],
   "source": [
    "from hololight.shallowfbcspnet import plot_confusion_mpl\n",
    "\n",
    "fig, ax = plt.subplots( dpi = 100 )\n",
    "plot_confusion_mpl( net.confusion( test_dset ), ax )\n"
   ]
  },
  {
   "cell_type": "code",
   "execution_count": 7,
   "metadata": {},
   "outputs": [],
   "source": [
    "checkpoint_fname = Path( '.' ) / 'TestFBCSP.checkpoint'\n",
    "net.save_checkpoint_file( checkpoint_fname )"
   ]
  },
  {
   "cell_type": "code",
   "execution_count": 8,
   "metadata": {},
   "outputs": [],
   "source": [
    "loaded_net = ShallowFBCSPNet.from_checkpoint_file( checkpoint_fname )"
   ]
  },
  {
   "cell_type": "code",
   "execution_count": 14,
   "metadata": {},
   "outputs": [
    {
     "name": "stdout",
     "output_type": "stream",
     "text": [
      "Decoded Output:\t [0 1 0 1 0 1 0 1 0 1 0 1 0 1 0 1 0 1 0 1 0 1 0 1 0 1 0 1 0 1 0 1 0 1 0 1 0\n",
      " 1 0 1 0 1 0 1 0 1 0 1 0 1 0 1 0 1 0 1 0 1 0 1]\n",
      "True Output:\t [0 1 0 1 0 1 0 1 0 1 0 1 0 1 0 1 0 1 0 1 0 1 0 1 0 1 0 1 0 1 0 1 0 1 0 1 0\n",
      " 1 0 1 0 1 0 1 0 1 0 1 0 1 0 1 0 1 0 1 0 1 0 1]\n",
      "Accuracy: 100.0\n"
     ]
    }
   ],
   "source": [
    "decode = net.inference( eeg_trials ).argmax( axis = 1 )\n",
    "print( 'Decoded Output:\\t', decode )\n",
    "print( 'True Output:\\t', np.array( eeg_labels ) )\n",
    "print( f'Accuracy: {sum( decode == eeg_labels ) * 100.0 / len( decode )}' )"
   ]
  },
  {
   "cell_type": "code",
   "execution_count": null,
   "metadata": {},
   "outputs": [],
   "source": []
  }
 ],
 "metadata": {
  "kernelspec": {
   "display_name": "Python 3.8.9 ('env': venv)",
   "language": "python",
   "name": "python3"
  },
  "language_info": {
   "codemirror_mode": {
    "name": "ipython",
    "version": 3
   },
   "file_extension": ".py",
   "mimetype": "text/x-python",
   "name": "python",
   "nbconvert_exporter": "python",
   "pygments_lexer": "ipython3",
   "version": "3.8.9"
  },
  "orig_nbformat": 4,
  "vscode": {
   "interpreter": {
    "hash": "ed258a9152e085ee7311268e121aa17c6767ee64cbeeaf73a64058897dead45f"
   }
  }
 },
 "nbformat": 4,
 "nbformat_minor": 2
}
